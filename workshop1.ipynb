{
 "cells": [
  {
   "cell_type": "code",
   "execution_count": 2,
   "metadata": {},
   "outputs": [],
   "source": [
    "import os\n",
    "import requests\n",
    "from pyspark.sql import SparkSession\n",
    "from pyspark.sql.functions import isnull, col\n",
    "import geohash2 as gh"
   ]
  },
  {
   "cell_type": "code",
   "execution_count": 3,
   "metadata": {},
   "outputs": [
    {
     "name": "stderr",
     "output_type": "stream",
     "text": [
      "23/05/01 19:56:25 WARN Utils: Your hostname, MacBook-Pro-Mervert.local resolves to a loopback address: 127.0.0.1; using 192.168.0.119 instead (on interface en0)\n",
      "23/05/01 19:56:25 WARN Utils: Set SPARK_LOCAL_IP if you need to bind to another address\n",
      "Setting default log level to \"WARN\".\n",
      "To adjust logging level use sc.setLogLevel(newLevel). For SparkR, use setLogLevel(newLevel).\n",
      "23/05/01 19:56:26 WARN NativeCodeLoader: Unable to load native-hadoop library for your platform... using builtin-java classes where applicable\n"
     ]
    }
   ],
   "source": [
    "# Set up SparkSession\n",
    "spark = SparkSession.builder \\\n",
    "    .appName(\"Local Storage ETL\") \\\n",
    "    .config(\"spark.driver.memory\", \"16g\") \\\n",
    "    .config(\"spark.executor.memory\", \"8g\") \\\n",
    "    .getOrCreate()\n",
    "\n",
    "# Set up directory and file paths\n",
    "csv_dir = \"restaurant_csv\"\n",
    "csv_files = [os.path.join(csv_dir, f) for f in os.listdir(csv_dir) if f.endswith('.csv')]\n",
    "\n",
    "df = spark.read \\\n",
    "    .format(\"csv\") \\\n",
    "    .option(\"header\", \"true\") \\\n",
    "    .load(csv_files)"
   ]
  },
  {
   "cell_type": "code",
   "execution_count": 4,
   "metadata": {},
   "outputs": [
    {
     "data": {
      "text/plain": [
       "1997"
      ]
     },
     "execution_count": 4,
     "metadata": {},
     "output_type": "execute_result"
    }
   ],
   "source": [
    "df.dropDuplicates().count()"
   ]
  },
  {
   "cell_type": "code",
   "execution_count": 5,
   "metadata": {},
   "outputs": [
    {
     "name": "stdout",
     "output_type": "stream",
     "text": [
      "+------------+------------+--------------------+-----------------------+-------+--------------+------+--------+\n",
      "|          id|franchise_id|      franchise_name|restaurant_franchise_id|country|          city|   lat|     lng|\n",
      "+------------+------------+--------------------+-----------------------+-------+--------------+------+--------+\n",
      "|197568495625|          10|    The Golden Spoon|                  24784|     US|       Decatur|34.578| -87.021|\n",
      "| 17179869242|          59|         Azalea Cafe|                  10902|     FR|         Paris|48.861|   2.368|\n",
      "|214748364826|          27|     The Corner Cafe|                  92040|     US|    Rapid City|44.080|-103.250|\n",
      "|154618822706|          51|        The Pizzeria|                  41484|     AT|        Vienna|48.213|  16.413|\n",
      "|163208757312|          65|       Chef's Corner|                  96638|     GB|        London|51.495|  -0.191|\n",
      "| 68719476763|          28|    The Spicy Pickle|                  77517|     US|      Grayling|44.657| -84.744|\n",
      "|223338299419|          28|    The Spicy Pickle|                  36937|     US|        Oswego|43.452| -76.532|\n",
      "|240518168650|          75|     Greenhouse Cafe|                  93164|     NL|     Amsterdam|52.370|   4.897|\n",
      "|128849018936|          57|The Yellow Submarine|                   5679|     FR|         Paris|48.872|   2.335|\n",
      "|197568495635|          20|       The Brasserie|                  24784|     US|Jeffersonville|39.616| -83.612|\n",
      "| 68719476768|          33|   The Blue Elephant|                  77517|     IT|         Milan|45.479|   9.146|\n",
      "| 51539607582|          31|           Bistro 42|                   6934|     IT|         Milan|45.444|   9.153|\n",
      "| 94489280554|          43|      The Food House|                  95399|     FR|         Paris|48.867|   2.329|\n",
      "|206158430215|           8|     The Green Olive|                  53370|     US|   Haltom City|32.789| -97.280|\n",
      "|154618822657|           2|        Bella Cucina|                  41484|     US|   Fort Pierce|27.412| -80.391|\n",
      "| 17179869217|          34|     The Tasty Treat|                  10902|     US|     Green Bay|44.476| -88.077|\n",
      "|  8589934633|          42|     The Daily Scoop|                  12630|     FR|         Paris|48.854|   2.343|\n",
      "|240518168596|          21|      The Lazy Daisy|                  93164|     US|    Mendenhall|39.860| -75.646|\n",
      "|171798691906|          67|  Crimson and Clover|                  65939|     NL|     Amsterdam|52.361|   4.894|\n",
      "| 42949673022|          63|          Cafe Paris|                  89646|     GB|        London|51.508|  -0.107|\n",
      "+------------+------------+--------------------+-----------------------+-------+--------------+------+--------+\n",
      "only showing top 20 rows\n",
      "\n"
     ]
    }
   ],
   "source": [
    "df.show()"
   ]
  },
  {
   "cell_type": "code",
   "execution_count": 6,
   "metadata": {},
   "outputs": [
    {
     "name": "stderr",
     "output_type": "stream",
     "text": [
      "                                                                                \r"
     ]
    }
   ],
   "source": [
    "# Define a function to geocode the address using the OpenCage Geocoding API\n",
    "def geocode(row):\n",
    "    if row.lat is None or row.lng is None:\n",
    "        # Get the address of the restaurant from the DataFrame\n",
    "        address = row.city + \", \" + row.country\n",
    "\n",
    "        # Make a request to the OpenCage Geocoding API\n",
    "        response = requests.get(\"https://api.opencagedata.com/geocode/v1/json\",\n",
    "                                params={\"key\": \"bba82bd17cd64b70a5522222c43c52c6\", \"q\": address})\n",
    "\n",
    "        # Parse the latitude and longitude from the API response\n",
    "        if response.status_code == 200:\n",
    "            data = response.json()\n",
    "            results = data.get(\"results\", [])\n",
    "            if len(results) > 0:\n",
    "                geometry = results[0].get(\"geometry\", {})\n",
    "                lat = geometry.get(\"lat\")\n",
    "                lng = geometry.get(\"lng\")\n",
    "                return (row.id, lat, lng)\n",
    "\n",
    "# Filter for rows where lat or lng is null\n",
    "null_df = df.filter(isnull('lat') | isnull('lng'))\n",
    "\n",
    "# Geocode the null values in the DataFrame\n",
    "geocoded = null_df.rdd.map(geocode).filter(lambda x: x is not None)\n",
    "geocoded_df = geocoded.toDF([\"id\", \"geocoded_lat\", \"geocoded_lng\"])\n",
    "\n",
    "joined_df = df.join(geocoded_df, [\"id\"], \"left\")\n",
    "\n",
    "# Replace null values in lat and lng columns with the geocoded values\n",
    "from pyspark.sql.functions import coalesce\n",
    "updated_df = joined_df.withColumn(\"lat\", coalesce(joined_df[\"lat\"], joined_df[\"geocoded_lat\"])) \\\n",
    "                      .withColumn(\"lng\", coalesce(joined_df[\"lng\"], joined_df[\"geocoded_lng\"]))\n",
    "\n",
    "# Drop the geocoded_lat and geocoded_lng columns\n",
    "final_df = updated_df.drop(\"geocoded_lat\", \"geocoded_lng\")\n"
   ]
  },
  {
   "cell_type": "code",
   "execution_count": 7,
   "metadata": {},
   "outputs": [
    {
     "name": "stdout",
     "output_type": "stream",
     "text": [
      "+-----------+------------+--------------+-----------------------+-------+------+----+----+\n",
      "|         id|franchise_id|franchise_name|restaurant_franchise_id|country|  city| lat| lng|\n",
      "+-----------+------------+--------------+-----------------------+-------+------+----+----+\n",
      "|85899345920|           1|       Savoria|                  18952|     US|Dillon|null|null|\n",
      "+-----------+------------+--------------+-----------------------+-------+------+----+----+\n",
      "\n"
     ]
    }
   ],
   "source": [
    "null_df.show()"
   ]
  },
  {
   "cell_type": "code",
   "execution_count": 8,
   "metadata": {},
   "outputs": [
    {
     "name": "stderr",
     "output_type": "stream",
     "text": [
      "[Stage 13:==============================================>           (4 + 1) / 5]\r"
     ]
    },
    {
     "name": "stdout",
     "output_type": "stream",
     "text": [
      "+------------+------------+--------------------+-----------------------+-------+----------------+------+--------+\n",
      "|          id|franchise_id|      franchise_name|restaurant_franchise_id|country|            city|   lat|     lng|\n",
      "+------------+------------+--------------------+-----------------------+-------+----------------+------+--------+\n",
      "|206158430215|           8|     The Green Olive|                  53370|     US|     Haltom City|32.789| -97.280|\n",
      "| 68719476763|          28|    The Spicy Pickle|                  77517|     US|        Grayling|44.657| -84.744|\n",
      "|128849018936|          57|The Yellow Submarine|                   5679|     FR|           Paris|48.872|   2.335|\n",
      "|154618822657|           2|        Bella Cucina|                  41484|     US|     Fort Pierce|27.412| -80.391|\n",
      "|240518168596|          21|      The Lazy Daisy|                  93164|     US|      Mendenhall|39.860| -75.646|\n",
      "|223338299416|          25|       The Cozy Cafe|                  36937|     US|Great Barrington|42.238| -73.335|\n",
      "|197568495625|          10|    The Golden Spoon|                  24784|     US|         Decatur|34.578| -87.021|\n",
      "| 17179869217|          34|     The Tasty Treat|                  10902|     US|       Green Bay|44.476| -88.077|\n",
      "| 17179869242|          59|         Azalea Cafe|                  10902|     FR|           Paris|48.861|   2.368|\n",
      "|197568495635|          20|       The Brasserie|                  24784|     US|  Jeffersonville|39.616| -83.612|\n",
      "| 51539607582|          31|           Bistro 42|                   6934|     IT|           Milan|45.444|   9.153|\n",
      "|223338299419|          28|    The Spicy Pickle|                  36937|     US|          Oswego|43.452| -76.532|\n",
      "| 42949673022|          63|          Cafe Paris|                  89646|     GB|          London|51.508|  -0.107|\n",
      "| 94489280554|          43|      The Food House|                  95399|     FR|           Paris|48.867|   2.329|\n",
      "|  8589934633|          42|     The Daily Scoop|                  12630|     FR|           Paris|48.854|   2.343|\n",
      "|154618822706|          51|        The Pizzeria|                  41484|     AT|          Vienna|48.213|  16.413|\n",
      "|240518168650|          75|     Greenhouse Cafe|                  93164|     NL|       Amsterdam|52.370|   4.897|\n",
      "|163208757312|          65|       Chef's Corner|                  96638|     GB|          London|51.495|  -0.191|\n",
      "| 68719476768|          33|   The Blue Elephant|                  77517|     IT|           Milan|45.479|   9.146|\n",
      "|214748364826|          27|     The Corner Cafe|                  92040|     US|      Rapid City|44.080|-103.250|\n",
      "+------------+------------+--------------------+-----------------------+-------+----------------+------+--------+\n",
      "only showing top 20 rows\n",
      "\n"
     ]
    },
    {
     "name": "stderr",
     "output_type": "stream",
     "text": [
      "                                                                                \r"
     ]
    }
   ],
   "source": [
    "final_df.show()"
   ]
  },
  {
   "cell_type": "code",
   "execution_count": 9,
   "metadata": {},
   "outputs": [],
   "source": [
    "from pyspark.sql.functions import udf\n",
    "from pyspark.sql.types import StringType"
   ]
  },
  {
   "cell_type": "code",
   "execution_count": 10,
   "metadata": {},
   "outputs": [],
   "source": [
    "@udf(returnType=StringType())\n",
    "def geohash_udf(lat, lng):\n",
    "    lat = float(lat)\n",
    "    lng = float(lng)\n",
    "    return gh.encode(lat, lng, precision=4)\n",
    "\n",
    "df_with_geohash = final_df.withColumn(\"geohash\", geohash_udf(final_df.lat, final_df.lng))"
   ]
  },
  {
   "cell_type": "code",
   "execution_count": 11,
   "metadata": {},
   "outputs": [
    {
     "name": "stderr",
     "output_type": "stream",
     "text": [
      "                                                                                \r"
     ]
    },
    {
     "name": "stdout",
     "output_type": "stream",
     "text": [
      "+------------+------------+--------------------+-----------------------+-------+----------------+------+--------+-------+\n",
      "|          id|franchise_id|      franchise_name|restaurant_franchise_id|country|            city|   lat|     lng|geohash|\n",
      "+------------+------------+--------------------+-----------------------+-------+----------------+------+--------+-------+\n",
      "|206158430215|           8|     The Green Olive|                  53370|     US|     Haltom City|32.789| -97.280|   9vff|\n",
      "| 68719476763|          28|    The Spicy Pickle|                  77517|     US|        Grayling|44.657| -84.744|   dpgw|\n",
      "|128849018936|          57|The Yellow Submarine|                   5679|     FR|           Paris|48.872|   2.335|   u09w|\n",
      "|154618822657|           2|        Bella Cucina|                  41484|     US|     Fort Pierce|27.412| -80.391|   dhyg|\n",
      "|240518168596|          21|      The Lazy Daisy|                  93164|     US|      Mendenhall|39.860| -75.646|   dr44|\n",
      "|223338299416|          25|       The Cozy Cafe|                  36937|     US|Great Barrington|42.238| -73.335|   dreb|\n",
      "|197568495625|          10|    The Golden Spoon|                  24784|     US|         Decatur|34.578| -87.021|   dn4h|\n",
      "| 17179869217|          34|     The Tasty Treat|                  10902|     US|       Green Bay|44.476| -88.077|   dpcm|\n",
      "| 17179869242|          59|         Azalea Cafe|                  10902|     FR|           Paris|48.861|   2.368|   u09t|\n",
      "|197568495635|          20|       The Brasserie|                  24784|     US|  Jeffersonville|39.616| -83.612|   dph9|\n",
      "| 51539607582|          31|           Bistro 42|                   6934|     IT|           Milan|45.444|   9.153|   u0nd|\n",
      "|223338299419|          28|    The Spicy Pickle|                  36937|     US|          Oswego|43.452| -76.532|   dr9x|\n",
      "| 42949673022|          63|          Cafe Paris|                  89646|     GB|          London|51.508|  -0.107|   gcpv|\n",
      "| 94489280554|          43|      The Food House|                  95399|     FR|           Paris|48.867|   2.329|   u09t|\n",
      "|  8589934633|          42|     The Daily Scoop|                  12630|     FR|           Paris|48.854|   2.343|   u09t|\n",
      "|154618822706|          51|        The Pizzeria|                  41484|     AT|          Vienna|48.213|  16.413|   u2ed|\n",
      "|240518168650|          75|     Greenhouse Cafe|                  93164|     NL|       Amsterdam|52.370|   4.897|   u173|\n",
      "|163208757312|          65|       Chef's Corner|                  96638|     GB|          London|51.495|  -0.191|   gcpu|\n",
      "| 68719476768|          33|   The Blue Elephant|                  77517|     IT|           Milan|45.479|   9.146|   u0nd|\n",
      "|214748364826|          27|     The Corner Cafe|                  92040|     US|      Rapid City|44.080|-103.250|   9xyd|\n",
      "+------------+------------+--------------------+-----------------------+-------+----------------+------+--------+-------+\n",
      "only showing top 20 rows\n",
      "\n"
     ]
    }
   ],
   "source": [
    "df_with_geohash.show()"
   ]
  },
  {
   "cell_type": "code",
   "execution_count": 12,
   "metadata": {},
   "outputs": [],
   "source": [
    "import zipfile\n",
    "import os\n",
    "\n",
    "# define the path to the zipped files directory\n",
    "zip_path = \"./weather_csv\"\n",
    "\n",
    "# loop through all the files in the directory\n",
    "for filename in os.listdir(zip_path):\n",
    "    if filename.endswith(\".zip\"):\n",
    "        # construct the full file path\n",
    "        file_path = os.path.join(zip_path, filename)\n",
    "\n",
    "        # extract the files to the same directory as the zipped files\n",
    "        with zipfile.ZipFile(file_path, \"r\") as zip_ref:\n",
    "            zip_ref.extractall(zip_path)"
   ]
  },
  {
   "cell_type": "code",
   "execution_count": 13,
   "metadata": {},
   "outputs": [],
   "source": [
    "path = './weather_csv/weather'\n",
    "weather_df = spark.read.option(\"mergeSchema\", \"true\").option(\"recursiveFileLookup\", \"true\").parquet(path)"
   ]
  },
  {
   "cell_type": "code",
   "execution_count": 14,
   "metadata": {},
   "outputs": [],
   "source": [
    "weather_df = weather_df.withColumn(\"geohash\", geohash_udf(weather_df.lat, weather_df.lng))"
   ]
  },
  {
   "cell_type": "code",
   "execution_count": 15,
   "metadata": {},
   "outputs": [],
   "source": [
    "from pyspark.sql.functions import col\n",
    "\n",
    "# Assuming your weather dataframe is named 'weather_df'\n",
    "weather_df = weather_df.withColumnRenamed(\"lat\", \"w_lat\").withColumnRenamed(\"lng\", \"w_lng\")\n"
   ]
  },
  {
   "cell_type": "code",
   "execution_count": 16,
   "metadata": {},
   "outputs": [
    {
     "name": "stdout",
     "output_type": "stream",
     "text": [
      "+--------+-------+----------+----------+----------+-------+\n",
      "|   w_lng|  w_lat|avg_tmpr_f|avg_tmpr_c| wthr_date|geohash|\n",
      "+--------+-------+----------+----------+----------+-------+\n",
      "| -111.09|18.6251|      80.7|      27.1|2017-08-29|   9e31|\n",
      "|-111.042|18.6305|      80.7|      27.1|2017-08-29|   9e31|\n",
      "|-110.995|18.6358|      80.7|      27.1|2017-08-29|   9e34|\n",
      "|-110.947|18.6412|      80.9|      27.2|2017-08-29|   9e34|\n",
      "|  -110.9|18.6465|      80.9|      27.2|2017-08-29|   9e34|\n",
      "|-110.852|18.6518|      80.9|      27.2|2017-08-29|   9e34|\n",
      "|-110.804|18.6571|      80.9|      27.2|2017-08-29|   9e34|\n",
      "|-105.068|19.1765|      82.4|      28.0|2017-08-29|   9emm|\n",
      "| -105.02|19.1799|      82.0|      27.8|2017-08-29|   9emm|\n",
      "|-104.972|19.1832|      82.0|      27.8|2017-08-29|   9emm|\n",
      "|-104.924|19.1866|      82.0|      27.8|2017-08-29|   9emm|\n",
      "|-104.876|19.1899|      82.0|      27.8|2017-08-29|   9emm|\n",
      "|-104.828|19.1932|      81.6|      27.6|2017-08-29|   9emm|\n",
      "| -104.78|19.1964|      81.6|      27.6|2017-08-29|   9emm|\n",
      "|-104.732|19.1997|      81.6|      27.6|2017-08-29|   9emt|\n",
      "|-104.684| 19.203|      77.8|      25.4|2017-08-29|   9emt|\n",
      "|-104.636|19.2062|      77.8|      25.4|2017-08-29|   9emt|\n",
      "|-104.588|19.2094|      75.2|      24.0|2017-08-29|   9emt|\n",
      "| -104.54|19.2126|      75.2|      24.0|2017-08-29|   9emt|\n",
      "|-104.492|19.2158|      75.2|      24.0|2017-08-29|   9emt|\n",
      "+--------+-------+----------+----------+----------+-------+\n",
      "only showing top 20 rows\n",
      "\n"
     ]
    },
    {
     "name": "stderr",
     "output_type": "stream",
     "text": [
      "                                                                                \r"
     ]
    }
   ],
   "source": [
    "weather_df.show()"
   ]
  },
  {
   "cell_type": "code",
   "execution_count": 17,
   "metadata": {},
   "outputs": [],
   "source": [
    "weather_df = weather_df.dropDuplicates(['geohash', 'wthr_date'])"
   ]
  },
  {
   "cell_type": "code",
   "execution_count": 18,
   "metadata": {},
   "outputs": [],
   "source": [
    "# Partition weather_df by geohash\n",
    "num_partitions = 100\n",
    "weather_df = weather_df.repartition(num_partitions, 'geohash')\n",
    "\n",
    "# Left join df_with_geohash with weather_df\n",
    "joined_df = df_with_geohash.join(weather_df, on=['geohash'], how='left')"
   ]
  },
  {
   "cell_type": "code",
   "execution_count": 19,
   "metadata": {},
   "outputs": [
    {
     "name": "stderr",
     "output_type": "stream",
     "text": [
      "                                                                                \r"
     ]
    },
    {
     "data": {
      "text/plain": [
       "172591"
      ]
     },
     "execution_count": 19,
     "metadata": {},
     "output_type": "execute_result"
    }
   ],
   "source": [
    "joined_df.count()"
   ]
  },
  {
   "cell_type": "code",
   "execution_count": 40,
   "metadata": {},
   "outputs": [
    {
     "name": "stderr",
     "output_type": "stream",
     "text": [
      "                                                                                \r"
     ]
    },
    {
     "name": "stdout",
     "output_type": "stream",
     "text": [
      "+-------+------------+------------+----------------+-----------------------+-------+-------+------+-------+--------+-------+----------+----------+----------+\n",
      "|geohash|          id|franchise_id|  franchise_name|restaurant_franchise_id|country|   city|   lat|    lng|   w_lng|  w_lat|avg_tmpr_f|avg_tmpr_c| wthr_date|\n",
      "+-------+------------+------------+----------------+-----------------------+-------+-------+------+-------+--------+-------+----------+----------+----------+\n",
      "|   dn4h|197568495625|          10|The Golden Spoon|                  24784|     US|Decatur|34.578|-87.021|-87.1862|34.4982|      76.3|      24.6|2017-08-11|\n",
      "|   dn4h|197568495625|          10|The Golden Spoon|                  24784|     US|Decatur|34.578|-87.021|-87.0083|34.6264|      69.7|      20.9|2016-10-13|\n",
      "|   dn4h|197568495625|          10|The Golden Spoon|                  24784|     US|Decatur|34.578|-87.021|-87.0083|34.6264|      70.9|      21.6|2016-10-31|\n",
      "|   dn4h|197568495625|          10|The Golden Spoon|                  24784|     US|Decatur|34.578|-87.021|-87.1862|34.4982|      67.0|      19.4|2017-09-09|\n",
      "|   dn4h|197568495625|          10|The Golden Spoon|                  24784|     US|Decatur|34.578|-87.021|-87.1862|34.4982|      77.0|      25.0|2017-09-23|\n",
      "|   dn4h|197568495625|          10|The Golden Spoon|                  24784|     US|Decatur|34.578|-87.021|-87.1862|34.4982|      80.5|      26.9|2017-08-17|\n",
      "|   dn4h|197568495625|          10|The Golden Spoon|                  24784|     US|Decatur|34.578|-87.021|-87.1862|34.4982|      79.9|      26.6|2017-08-16|\n",
      "|   dn4h|197568495625|          10|The Golden Spoon|                  24784|     US|Decatur|34.578|-87.021|-87.0083|34.6264|      74.1|      23.4|2016-10-06|\n",
      "|   dn4h|197568495625|          10|The Golden Spoon|                  24784|     US|Decatur|34.578|-87.021|-87.1862|34.4982|      77.1|      25.1|2017-08-15|\n",
      "|   dn4h|197568495625|          10|The Golden Spoon|                  24784|     US|Decatur|34.578|-87.021|-87.1862|34.4982|      74.4|      23.6|2017-09-25|\n",
      "|   dn4h|197568495625|          10|The Golden Spoon|                  24784|     US|Decatur|34.578|-87.021|-87.1862|34.4982|      79.5|      26.4|2017-08-18|\n",
      "|   dn4h|197568495625|          10|The Golden Spoon|                  24784|     US|Decatur|34.578|-87.021|-87.0083|34.6264|      70.2|      21.2|2016-10-03|\n",
      "|   dn4h|197568495625|          10|The Golden Spoon|                  24784|     US|Decatur|34.578|-87.021|-87.0083|34.6264|      77.3|      25.2|2016-10-18|\n",
      "|   dn4h|197568495625|          10|The Golden Spoon|                  24784|     US|Decatur|34.578|-87.021|-87.0083|34.6264|      73.1|      22.8|2016-10-16|\n",
      "|   dn4h|197568495625|          10|The Golden Spoon|                  24784|     US|Decatur|34.578|-87.021|-87.1862|34.4982|      70.9|      21.6|2017-09-05|\n",
      "|   dn4h|197568495625|          10|The Golden Spoon|                  24784|     US|Decatur|34.578|-87.021|-87.1862|34.4982|      69.1|      20.6|2017-09-29|\n",
      "|   dn4h|197568495625|          10|The Golden Spoon|                  24784|     US|Decatur|34.578|-87.021|-87.1862|34.4982|      72.7|      22.6|2017-08-28|\n",
      "|   dn4h|197568495625|          10|The Golden Spoon|                  24784|     US|Decatur|34.578|-87.021|-87.1862|34.4982|      72.4|      22.4|2017-08-24|\n",
      "|   dn4h|197568495625|          10|The Golden Spoon|                  24784|     US|Decatur|34.578|-87.021|-87.1862|34.4982|      60.8|      16.0|2017-09-13|\n",
      "|   dn4h|197568495625|          10|The Golden Spoon|                  24784|     US|Decatur|34.578|-87.021|-87.1862|34.4982|      74.8|      23.8|2017-09-24|\n",
      "+-------+------------+------------+----------------+-----------------------+-------+-------+------+-------+--------+-------+----------+----------+----------+\n",
      "only showing top 20 rows\n",
      "\n"
     ]
    }
   ],
   "source": [
    "joined_df.show()"
   ]
  },
  {
   "cell_type": "code",
   "execution_count": null,
   "metadata": {},
   "outputs": [
    {
     "name": "stderr",
     "output_type": "stream",
     "text": [
      "[Stage 48:======================================>                 (11 + 5) / 16]\r"
     ]
    }
   ],
   "source": [
    "# Write the final_df to the local file system in the parquet format, preserving data partitioning\n",
    "joined_df.write.mode(\"overwrite\").parquet(\"enriched_data.parquet\")"
   ]
  },
  {
   "cell_type": "code",
   "execution_count": null,
   "metadata": {},
   "outputs": [],
   "source": []
  },
  {
   "cell_type": "code",
   "execution_count": null,
   "metadata": {},
   "outputs": [],
   "source": []
  },
  {
   "cell_type": "code",
   "execution_count": null,
   "metadata": {},
   "outputs": [],
   "source": []
  },
  {
   "cell_type": "code",
   "execution_count": null,
   "metadata": {},
   "outputs": [],
   "source": []
  },
  {
   "cell_type": "code",
   "execution_count": null,
   "metadata": {},
   "outputs": [],
   "source": []
  },
  {
   "cell_type": "code",
   "execution_count": null,
   "metadata": {},
   "outputs": [],
   "source": []
  }
 ],
 "metadata": {
  "kernelspec": {
   "display_name": "Python 3 (ipykernel)",
   "language": "python",
   "name": "python3"
  },
  "language_info": {
   "codemirror_mode": {
    "name": "ipython",
    "version": 3
   },
   "file_extension": ".py",
   "mimetype": "text/x-python",
   "name": "python",
   "nbconvert_exporter": "python",
   "pygments_lexer": "ipython3",
   "version": "3.10.9"
  },
  "vscode": {
   "interpreter": {
    "hash": "b0fa6594d8f4cbf19f97940f81e996739fb7646882a419484c72d19e05852a7e"
   }
  }
 },
 "nbformat": 4,
 "nbformat_minor": 4
}
